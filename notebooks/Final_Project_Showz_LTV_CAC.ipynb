{
 "cells": [
  {
   "cell_type": "markdown",
   "id": "bfd2c22a",
   "metadata": {},
   "source": [
    "# Pregunta 4"
   ]
  },
  {
   "cell_type": "code",
   "execution_count": null,
   "id": "e074c919",
   "metadata": {},
   "outputs": [],
   "source": []
  },
  {
   "cell_type": "code",
   "execution_count": null,
   "id": "dce864a6",
   "metadata": {},
   "outputs": [],
   "source": []
  },
  {
   "cell_type": "markdown",
   "id": "5a7d52d2",
   "metadata": {},
   "source": [
    "# Estrategia de marketing basada en simulación"
   ]
  },
  {
   "cell_type": "code",
   "execution_count": 46,
   "id": "c8804448",
   "metadata": {},
   "outputs": [],
   "source": [
    "# 5.1) Librerías y carga de datos\n",
    "import pandas as pd\n",
    "import json\n",
    "from joblib import load\n",
    "\n",
    "# Carga el dataset de features (salida de tu FeatureEngineering)\n",
    "df = pd.read_csv('../data/processed/modeling_dataset.csv')\n",
    "\n",
    "# Carga los modelos ya entrenados\n",
    "model_ltv = load('../models/LTV_180/blending.pkl')\n",
    "model_cac = load('../models/CAC_source_30/ridge.pkl')\n",
    "\n",
    "# 5.2) Carga las listas de features guardadas al entrenar\n",
    "with open('../models/LTV_180/blending_features.json', 'r', encoding='utf-8') as f:\n",
    "    feats_ltv = json.load(f)\n",
    "\n",
    "with open('../models/CAC_source_30/ridge_features.json', 'r', encoding='utf-8') as f:\n",
    "    feats_cac = json.load(f)\n",
    "\n",
    "# Asegúrate de que todas las columnas existen en tu df\n",
    "feats_ltv = [c for c in feats_ltv if c in df.columns]\n",
    "feats_cac = [c for c in feats_cac if c in df.columns]\n",
    "\n"
   ]
  },
  {
   "cell_type": "code",
   "execution_count": 47,
   "id": "feee7c85",
   "metadata": {},
   "outputs": [
    {
     "name": "stdout",
     "output_type": "stream",
     "text": [
      "<class 'pandas.core.frame.DataFrame'>\n",
      "RangeIndex: 36523 entries, 0 to 36522\n",
      "Data columns (total 29 columns):\n",
      " #   Column                                Non-Null Count  Dtype  \n",
      "---  ------                                --------------  -----  \n",
      " 0   uid                                   36523 non-null  uint64 \n",
      " 1   n_compras                             36523 non-null  int64  \n",
      " 2   revenue_total                         36523 non-null  float64\n",
      " 3   aov                                   36523 non-null  float64\n",
      " 4   fecha_primera_compra                  36523 non-null  object \n",
      " 5   fecha_ultima_compra                   36523 non-null  object \n",
      " 6   dias_entre_compras                    36523 non-null  int64  \n",
      " 7   is_retained                           36523 non-null  int64  \n",
      " 8   meses_activo                          36523 non-null  float64\n",
      " 9   gasto_mensual_promedio                36523 non-null  float64\n",
      " 10  frecuencia_compras                    36523 non-null  float64\n",
      " 11  dias_primera_sesion_a_primera_compra  36523 non-null  int64  \n",
      " 12  fecha_primera_sesion                  36523 non-null  object \n",
      " 13  mes_primera_sesion                    36523 non-null  int64  \n",
      " 14  dia_semana_primera_sesion             36523 non-null  int64  \n",
      " 15  es_fin_de_semana_primera_sesion       36523 non-null  int64  \n",
      " 16  estacion_primera_sesion               36523 non-null  int64  \n",
      " 17  primer_dispositivo                    36523 non-null  int64  \n",
      " 18  primer_source                         36523 non-null  int64  \n",
      " 19  n_sesiones                            36523 non-null  int64  \n",
      " 20  CAC_source_30                         36522 non-null  float64\n",
      " 21  cohort_year                           36523 non-null  int64  \n",
      " 22  cohort_month                          36523 non-null  int64  \n",
      " 23  duracion_promedio_sesion              36523 non-null  float64\n",
      " 24  n_dispositivos_distintos              36523 non-null  int64  \n",
      " 25  dias_activo                           36523 non-null  int64  \n",
      " 26  LTV_180                               35636 non-null  float64\n",
      " 27  trend_slope                           4707 non-null   float64\n",
      " 28  has_slope                             36523 non-null  int64  \n",
      "dtypes: float64(9), int64(16), object(3), uint64(1)\n",
      "memory usage: 8.1+ MB\n"
     ]
    }
   ],
   "source": [
    "df.info()"
   ]
  },
  {
   "cell_type": "code",
   "execution_count": 49,
   "id": "e8eebd83",
   "metadata": {},
   "outputs": [
    {
     "data": {
      "text/plain": [
       "['n_compras',\n",
       " 'revenue_total',\n",
       " 'aov',\n",
       " 'dias_entre_compras',\n",
       " 'is_retained',\n",
       " 'meses_activo',\n",
       " 'gasto_mensual_promedio',\n",
       " 'frecuencia_compras',\n",
       " 'dias_primera_sesion_a_primera_compra',\n",
       " 'mes_primera_sesion',\n",
       " 'dia_semana_primera_sesion',\n",
       " 'es_fin_de_semana_primera_sesion',\n",
       " 'estacion_primera_sesion',\n",
       " 'primer_dispositivo',\n",
       " 'n_sesiones',\n",
       " 'cohort_year',\n",
       " 'cohort_month',\n",
       " 'duracion_promedio_sesion',\n",
       " 'n_dispositivos_distintos',\n",
       " 'dias_activo',\n",
       " 'LTV_180',\n",
       " 'trend_slope',\n",
       " 'has_slope']"
      ]
     },
     "execution_count": 49,
     "metadata": {},
     "output_type": "execute_result"
    }
   ],
   "source": [
    "feats_cac"
   ]
  },
  {
   "cell_type": "code",
   "execution_count": 44,
   "id": "e748d6cf",
   "metadata": {},
   "outputs": [
    {
     "name": "stderr",
     "output_type": "stream",
     "text": [
      "/opt/anaconda3/lib/python3.12/site-packages/sklearn/base.py:493: UserWarning: X does not have valid feature names, but LinearRegression was fitted with feature names\n",
      "  warnings.warn(\n"
     ]
    },
    {
     "ename": "ValueError",
     "evalue": "Expected 2D array, got 1D array instead:\narray=[].\nReshape your data either using array.reshape(-1, 1) if your data has a single feature or array.reshape(1, -1) if it contains a single sample.",
     "output_type": "error",
     "traceback": [
      "\u001b[0;31m---------------------------------------------------------------------------\u001b[0m",
      "\u001b[0;31mValueError\u001b[0m                                Traceback (most recent call last)",
      "Cell \u001b[0;32mIn[44], line 6\u001b[0m\n\u001b[1;32m      3\u001b[0m X_ltv \u001b[38;5;241m=\u001b[39m df[feats_ltv]\u001b[38;5;241m.\u001b[39mfillna(\u001b[38;5;241m0.0\u001b[39m)\n\u001b[1;32m      4\u001b[0m X_cac \u001b[38;5;241m=\u001b[39m df[feats_cac]\u001b[38;5;241m.\u001b[39mfillna(\u001b[38;5;241m0.0\u001b[39m)\n\u001b[0;32m----> 6\u001b[0m df[\u001b[38;5;124m'\u001b[39m\u001b[38;5;124mpred_LTV_180\u001b[39m\u001b[38;5;124m'\u001b[39m] \u001b[38;5;241m=\u001b[39m model_ltv\u001b[38;5;241m.\u001b[39mpredict(feats_ltv)\n\u001b[1;32m      7\u001b[0m df[\u001b[38;5;124m'\u001b[39m\u001b[38;5;124mpred_CAC_30\u001b[39m\u001b[38;5;124m'\u001b[39m]  \u001b[38;5;241m=\u001b[39m model_cac\u001b[38;5;241m.\u001b[39mpredict(feats_cac)\n",
      "File \u001b[0;32m/opt/anaconda3/lib/python3.12/site-packages/sklearn/linear_model/_base.py:306\u001b[0m, in \u001b[0;36mLinearModel.predict\u001b[0;34m(self, X)\u001b[0m\n\u001b[1;32m    292\u001b[0m \u001b[38;5;28;01mdef\u001b[39;00m \u001b[38;5;21mpredict\u001b[39m(\u001b[38;5;28mself\u001b[39m, X):\n\u001b[1;32m    293\u001b[0m \u001b[38;5;250m    \u001b[39m\u001b[38;5;124;03m\"\"\"\u001b[39;00m\n\u001b[1;32m    294\u001b[0m \u001b[38;5;124;03m    Predict using the linear model.\u001b[39;00m\n\u001b[1;32m    295\u001b[0m \n\u001b[0;32m   (...)\u001b[0m\n\u001b[1;32m    304\u001b[0m \u001b[38;5;124;03m        Returns predicted values.\u001b[39;00m\n\u001b[1;32m    305\u001b[0m \u001b[38;5;124;03m    \"\"\"\u001b[39;00m\n\u001b[0;32m--> 306\u001b[0m     \u001b[38;5;28;01mreturn\u001b[39;00m \u001b[38;5;28mself\u001b[39m\u001b[38;5;241m.\u001b[39m_decision_function(X)\n",
      "File \u001b[0;32m/opt/anaconda3/lib/python3.12/site-packages/sklearn/linear_model/_base.py:285\u001b[0m, in \u001b[0;36mLinearModel._decision_function\u001b[0;34m(self, X)\u001b[0m\n\u001b[1;32m    282\u001b[0m \u001b[38;5;28;01mdef\u001b[39;00m \u001b[38;5;21m_decision_function\u001b[39m(\u001b[38;5;28mself\u001b[39m, X):\n\u001b[1;32m    283\u001b[0m     check_is_fitted(\u001b[38;5;28mself\u001b[39m)\n\u001b[0;32m--> 285\u001b[0m     X \u001b[38;5;241m=\u001b[39m \u001b[38;5;28mself\u001b[39m\u001b[38;5;241m.\u001b[39m_validate_data(X, accept_sparse\u001b[38;5;241m=\u001b[39m[\u001b[38;5;124m\"\u001b[39m\u001b[38;5;124mcsr\u001b[39m\u001b[38;5;124m\"\u001b[39m, \u001b[38;5;124m\"\u001b[39m\u001b[38;5;124mcsc\u001b[39m\u001b[38;5;124m\"\u001b[39m, \u001b[38;5;124m\"\u001b[39m\u001b[38;5;124mcoo\u001b[39m\u001b[38;5;124m\"\u001b[39m], reset\u001b[38;5;241m=\u001b[39m\u001b[38;5;28;01mFalse\u001b[39;00m)\n\u001b[1;32m    286\u001b[0m     coef_ \u001b[38;5;241m=\u001b[39m \u001b[38;5;28mself\u001b[39m\u001b[38;5;241m.\u001b[39mcoef_\n\u001b[1;32m    287\u001b[0m     \u001b[38;5;28;01mif\u001b[39;00m coef_\u001b[38;5;241m.\u001b[39mndim \u001b[38;5;241m==\u001b[39m \u001b[38;5;241m1\u001b[39m:\n",
      "File \u001b[0;32m/opt/anaconda3/lib/python3.12/site-packages/sklearn/base.py:633\u001b[0m, in \u001b[0;36mBaseEstimator._validate_data\u001b[0;34m(self, X, y, reset, validate_separately, cast_to_ndarray, **check_params)\u001b[0m\n\u001b[1;32m    631\u001b[0m         out \u001b[38;5;241m=\u001b[39m X, y\n\u001b[1;32m    632\u001b[0m \u001b[38;5;28;01melif\u001b[39;00m \u001b[38;5;129;01mnot\u001b[39;00m no_val_X \u001b[38;5;129;01mand\u001b[39;00m no_val_y:\n\u001b[0;32m--> 633\u001b[0m     out \u001b[38;5;241m=\u001b[39m check_array(X, input_name\u001b[38;5;241m=\u001b[39m\u001b[38;5;124m\"\u001b[39m\u001b[38;5;124mX\u001b[39m\u001b[38;5;124m\"\u001b[39m, \u001b[38;5;241m*\u001b[39m\u001b[38;5;241m*\u001b[39mcheck_params)\n\u001b[1;32m    634\u001b[0m \u001b[38;5;28;01melif\u001b[39;00m no_val_X \u001b[38;5;129;01mand\u001b[39;00m \u001b[38;5;129;01mnot\u001b[39;00m no_val_y:\n\u001b[1;32m    635\u001b[0m     out \u001b[38;5;241m=\u001b[39m _check_y(y, \u001b[38;5;241m*\u001b[39m\u001b[38;5;241m*\u001b[39mcheck_params)\n",
      "File \u001b[0;32m/opt/anaconda3/lib/python3.12/site-packages/sklearn/utils/validation.py:1050\u001b[0m, in \u001b[0;36mcheck_array\u001b[0;34m(array, accept_sparse, accept_large_sparse, dtype, order, copy, force_writeable, force_all_finite, ensure_2d, allow_nd, ensure_min_samples, ensure_min_features, estimator, input_name)\u001b[0m\n\u001b[1;32m   1043\u001b[0m         \u001b[38;5;28;01melse\u001b[39;00m:\n\u001b[1;32m   1044\u001b[0m             msg \u001b[38;5;241m=\u001b[39m (\n\u001b[1;32m   1045\u001b[0m                 \u001b[38;5;124mf\u001b[39m\u001b[38;5;124m\"\u001b[39m\u001b[38;5;124mExpected 2D array, got 1D array instead:\u001b[39m\u001b[38;5;130;01m\\n\u001b[39;00m\u001b[38;5;124marray=\u001b[39m\u001b[38;5;132;01m{\u001b[39;00marray\u001b[38;5;132;01m}\u001b[39;00m\u001b[38;5;124m.\u001b[39m\u001b[38;5;130;01m\\n\u001b[39;00m\u001b[38;5;124m\"\u001b[39m\n\u001b[1;32m   1046\u001b[0m                 \u001b[38;5;124m\"\u001b[39m\u001b[38;5;124mReshape your data either using array.reshape(-1, 1) if \u001b[39m\u001b[38;5;124m\"\u001b[39m\n\u001b[1;32m   1047\u001b[0m                 \u001b[38;5;124m\"\u001b[39m\u001b[38;5;124myour data has a single feature or array.reshape(1, -1) \u001b[39m\u001b[38;5;124m\"\u001b[39m\n\u001b[1;32m   1048\u001b[0m                 \u001b[38;5;124m\"\u001b[39m\u001b[38;5;124mif it contains a single sample.\u001b[39m\u001b[38;5;124m\"\u001b[39m\n\u001b[1;32m   1049\u001b[0m             )\n\u001b[0;32m-> 1050\u001b[0m         \u001b[38;5;28;01mraise\u001b[39;00m \u001b[38;5;167;01mValueError\u001b[39;00m(msg)\n\u001b[1;32m   1052\u001b[0m \u001b[38;5;28;01mif\u001b[39;00m dtype_numeric \u001b[38;5;129;01mand\u001b[39;00m \u001b[38;5;28mhasattr\u001b[39m(array\u001b[38;5;241m.\u001b[39mdtype, \u001b[38;5;124m\"\u001b[39m\u001b[38;5;124mkind\u001b[39m\u001b[38;5;124m\"\u001b[39m) \u001b[38;5;129;01mand\u001b[39;00m array\u001b[38;5;241m.\u001b[39mdtype\u001b[38;5;241m.\u001b[39mkind \u001b[38;5;129;01min\u001b[39;00m \u001b[38;5;124m\"\u001b[39m\u001b[38;5;124mUSV\u001b[39m\u001b[38;5;124m\"\u001b[39m:\n\u001b[1;32m   1053\u001b[0m     \u001b[38;5;28;01mraise\u001b[39;00m \u001b[38;5;167;01mValueError\u001b[39;00m(\n\u001b[1;32m   1054\u001b[0m         \u001b[38;5;124m\"\u001b[39m\u001b[38;5;124mdtype=\u001b[39m\u001b[38;5;124m'\u001b[39m\u001b[38;5;124mnumeric\u001b[39m\u001b[38;5;124m'\u001b[39m\u001b[38;5;124m is not compatible with arrays of bytes/strings.\u001b[39m\u001b[38;5;124m\"\u001b[39m\n\u001b[1;32m   1055\u001b[0m         \u001b[38;5;124m\"\u001b[39m\u001b[38;5;124mConvert your data to numeric values explicitly instead.\u001b[39m\u001b[38;5;124m\"\u001b[39m\n\u001b[1;32m   1056\u001b[0m     )\n",
      "\u001b[0;31mValueError\u001b[0m: Expected 2D array, got 1D array instead:\narray=[].\nReshape your data either using array.reshape(-1, 1) if your data has a single feature or array.reshape(1, -1) if it contains a single sample."
     ]
    }
   ],
   "source": [
    "# 5.3) Preparar X y predecir\n",
    "# Si tuvieras NaNs en esas columnas, imputa con la mediana\n",
    "X_ltv = df[feats_ltv].fillna(0.0)\n",
    "X_cac = df[feats_cac].fillna(0.0)\n",
    "\n",
    "df['pred_LTV_180'] = model_ltv.predict(feats_ltv)\n",
    "df['pred_CAC_30']  = model_cac.predict(feats_cac)"
   ]
  },
  {
   "cell_type": "code",
   "execution_count": null,
   "id": "f103f255",
   "metadata": {},
   "outputs": [],
   "source": [
    "# 5.3) Calcular ROMI por fuente\n",
    "# Asumo que tu columna de canal/fuente se llama 'source'; cámbiala si difiere.\n",
    "stats = (\n",
    "    df\n",
    "    .groupby('source')\n",
    "    .agg(\n",
    "        avg_LTV=('pred_LTV_180','mean'),\n",
    "        avg_CAC=('pred_CAC_30','mean'),\n",
    "        n_users=('pred_CAC_30','count')\n",
    "    )\n",
    "    .reset_index()\n",
    ")\n",
    "stats['ROMI'] = stats['avg_LTV'] / stats['avg_CAC']\n",
    "stats['budget'] = stats['n_users'] * stats['avg_CAC']  # gasto actual por fuente\n",
    "stats\n"
   ]
  },
  {
   "cell_type": "code",
   "execution_count": null,
   "id": "c273e0ee",
   "metadata": {},
   "outputs": [],
   "source": [
    "# 5.4) Simulación de escenarios\n",
    "total_budget = stats['budget'].sum()\n",
    "\n",
    "# Define la fuente objetivo (\"Fuente A\") para el +10%\n",
    "source_A = 'A'   # ← cambia a la fuente que quieras testar\n",
    "\n",
    "#  – Escenario 1: +10% de presupuesto SOLO en source_A (otros iguales, total aumenta)\n",
    "stats1 = stats.copy()\n",
    "stats1.loc[stats1['source']==source_A, 'budget'] *= 1.10\n",
    "\n",
    "#  – Escenario 2: redistribución proporcional del extra +10% de budget de source_A\n",
    "extra = stats.loc[stats['source']==source_A, 'budget'].iloc[0] * 0.10\n",
    "stats2 = stats.copy()\n",
    "stats2['budget'] += stats2['budget'] / total_budget * extra\n",
    "\n",
    "# Función para calcular ingresos esperados\n",
    "def apply_revenue(df_stats):\n",
    "    df = df_stats.copy()\n",
    "    df['expected_revenue'] = df['budget'] * df['ROMI']\n",
    "    total_rev = df['expected_revenue'].sum()\n",
    "    return df, total_rev\n",
    "\n",
    "base, rev0 = apply_revenue(stats)\n",
    "esc1, rev1 = apply_revenue(stats1)\n",
    "esc2, rev2 = apply_revenue(stats2)\n",
    "\n",
    "print(f\"✔ Presupuesto total original: {total_budget:.2f}\\n\"\n",
    "      f\"  Ingreso esperado original: {rev0:.2f}\\n\"\n",
    "      f\"✦ Escenario 1 (+10% en {source_A}): ingreso = {rev1:.2f}\\n\"\n",
    "      f\"✦ Escenario 2 (redistrib. prop.): ingreso = {rev2:.2f}\")\n"
   ]
  },
  {
   "cell_type": "code",
   "execution_count": null,
   "id": "ec452623",
   "metadata": {},
   "outputs": [],
   "source": [
    "## 5.5) Recomendación y beneficio esperado\n",
    "\n",
    "if rev1 > rev2:\n",
    "    mejor = f\"Escenario 1: destinar +10% a {source_A}\"\n",
    "    beneficio = rev1 - rev0\n",
    "else:\n",
    "    mejor = \"Escenario 2: redistribución proporcional\"\n",
    "    beneficio = rev2 - rev0\n",
    "\n",
    "print(f\"**Recomendación:** {mejor}\")\n",
    "print(f\"Beneficio adicional esperado: {beneficio:.2f}\")\n"
   ]
  },
  {
   "cell_type": "code",
   "execution_count": null,
   "id": "181bcbd1",
   "metadata": {},
   "outputs": [],
   "source": []
  },
  {
   "cell_type": "code",
   "execution_count": null,
   "id": "54b6e497",
   "metadata": {},
   "outputs": [],
   "source": []
  }
 ],
 "metadata": {
  "kernelspec": {
   "display_name": "base",
   "language": "python",
   "name": "python3"
  },
  "language_info": {
   "codemirror_mode": {
    "name": "ipython",
    "version": 3
   },
   "file_extension": ".py",
   "mimetype": "text/x-python",
   "name": "python",
   "nbconvert_exporter": "python",
   "pygments_lexer": "ipython3",
   "version": "3.12.2"
  }
 },
 "nbformat": 4,
 "nbformat_minor": 5
}
