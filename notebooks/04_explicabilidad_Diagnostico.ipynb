{
 "cells": [
  {
   "cell_type": "markdown",
   "id": "390eb0dc",
   "metadata": {},
   "source": [
    "# Explicabilidad y Diagnóstico"
   ]
  },
  {
   "cell_type": "code",
   "execution_count": 2,
   "id": "8ffd2d71",
   "metadata": {},
   "outputs": [
    {
     "name": "stderr",
     "output_type": "stream",
     "text": [
      "/Users/titusr09/Downloads/DataMiningProyectoFinal/venv/lib/python3.12/site-packages/tqdm/auto.py:21: TqdmWarning: IProgress not found. Please update jupyter and ipywidgets. See https://ipywidgets.readthedocs.io/en/stable/user_install.html\n",
      "  from .autonotebook import tqdm as notebook_tqdm\n"
     ]
    }
   ],
   "source": [
    "import pickle\n",
    "import pandas as pd\n",
    "import numpy as np\n",
    "import matplotlib.pyplot as plt\n",
    "from sklearn.inspection import permutation_importance\n",
    "import shap"
   ]
  },
  {
   "cell_type": "code",
   "execution_count": 3,
   "id": "7cddda8e",
   "metadata": {},
   "outputs": [],
   "source": [
    "# Cargar dataset\n",
    "df = pd.read_csv('../data/processed/modeling_dataset.csv')\n",
    "df['fecha_primera_sesion'] = pd.to_datetime(df['fecha_primera_sesion'])"
   ]
  },
  {
   "cell_type": "code",
   "execution_count": 9,
   "id": "9ed75ee0",
   "metadata": {},
   "outputs": [
    {
     "name": "stdout",
     "output_type": "stream",
     "text": [
      "<class 'pandas.core.frame.DataFrame'>\n",
      "RangeIndex: 36523 entries, 0 to 36522\n",
      "Data columns (total 27 columns):\n",
      " #   Column                                Non-Null Count  Dtype         \n",
      "---  ------                                --------------  -----         \n",
      " 0   uid                                   36523 non-null  uint64        \n",
      " 1   n_compras                             36523 non-null  int64         \n",
      " 2   revenue_total                         36523 non-null  float64       \n",
      " 3   aov                                   36523 non-null  float64       \n",
      " 4   fecha_primera_compra                  36523 non-null  object        \n",
      " 5   fecha_ultima_compra                   36523 non-null  object        \n",
      " 6   dias_entre_compras                    36523 non-null  int64         \n",
      " 7   is_retained                           36523 non-null  int64         \n",
      " 8   meses_activo                          36523 non-null  float64       \n",
      " 9   gasto_mensual_promedio                36523 non-null  float64       \n",
      " 10  frecuencia_compras                    36523 non-null  float64       \n",
      " 11  dias_primera_sesion_a_primera_compra  36523 non-null  int64         \n",
      " 12  fecha_primera_sesion                  36523 non-null  datetime64[ns]\n",
      " 13  mes_primera_sesion                    36523 non-null  int64         \n",
      " 14  dia_semana_primera_sesion             36523 non-null  int64         \n",
      " 15  es_fin_de_semana_primera_sesion       36523 non-null  int64         \n",
      " 16  estacion_primera_sesion               36523 non-null  int64         \n",
      " 17  primer_dispositivo                    36523 non-null  int64         \n",
      " 18  primer_source                         36523 non-null  int64         \n",
      " 19  n_sesiones                            36523 non-null  int64         \n",
      " 20  CAC_source_30                         36522 non-null  float64       \n",
      " 21  cohort_year                           36523 non-null  int64         \n",
      " 22  cohort_month                          36523 non-null  int64         \n",
      " 23  duracion_promedio_sesion              36523 non-null  float64       \n",
      " 24  n_dispositivos_distintos              36523 non-null  int64         \n",
      " 25  dias_activo                           36523 non-null  int64         \n",
      " 26  LTV_180                               35636 non-null  float64       \n",
      "dtypes: datetime64[ns](1), float64(8), int64(15), object(2), uint64(1)\n",
      "memory usage: 7.5+ MB\n"
     ]
    }
   ],
   "source": [
    "df.info()"
   ]
  },
  {
   "cell_type": "code",
   "execution_count": 12,
   "id": "85bd1295",
   "metadata": {},
   "outputs": [
    {
     "data": {
      "text/html": [
       "<div>\n",
       "<style scoped>\n",
       "    .dataframe tbody tr th:only-of-type {\n",
       "        vertical-align: middle;\n",
       "    }\n",
       "\n",
       "    .dataframe tbody tr th {\n",
       "        vertical-align: top;\n",
       "    }\n",
       "\n",
       "    .dataframe thead th {\n",
       "        text-align: right;\n",
       "    }\n",
       "</style>\n",
       "<table border=\"1\" class=\"dataframe\">\n",
       "  <thead>\n",
       "    <tr style=\"text-align: right;\">\n",
       "      <th></th>\n",
       "      <th>uid</th>\n",
       "      <th>n_compras</th>\n",
       "      <th>revenue_total</th>\n",
       "      <th>aov</th>\n",
       "      <th>fecha_primera_compra</th>\n",
       "      <th>fecha_ultima_compra</th>\n",
       "      <th>dias_entre_compras</th>\n",
       "      <th>is_retained</th>\n",
       "      <th>meses_activo</th>\n",
       "      <th>gasto_mensual_promedio</th>\n",
       "      <th>...</th>\n",
       "      <th>primer_dispositivo</th>\n",
       "      <th>primer_source</th>\n",
       "      <th>n_sesiones</th>\n",
       "      <th>CAC_source_30</th>\n",
       "      <th>cohort_year</th>\n",
       "      <th>cohort_month</th>\n",
       "      <th>duracion_promedio_sesion</th>\n",
       "      <th>n_dispositivos_distintos</th>\n",
       "      <th>dias_activo</th>\n",
       "      <th>LTV_180</th>\n",
       "    </tr>\n",
       "  </thead>\n",
       "  <tbody>\n",
       "    <tr>\n",
       "      <th>0</th>\n",
       "      <td>313578113262317</td>\n",
       "      <td>1</td>\n",
       "      <td>0.55</td>\n",
       "      <td>0.550</td>\n",
       "      <td>2018-01-03 21:51:00</td>\n",
       "      <td>2018-01-03 21:51:00</td>\n",
       "      <td>0</td>\n",
       "      <td>0</td>\n",
       "      <td>1.0</td>\n",
       "      <td>0.55</td>\n",
       "      <td>...</td>\n",
       "      <td>0</td>\n",
       "      <td>2</td>\n",
       "      <td>3</td>\n",
       "      <td>0.340746</td>\n",
       "      <td>2017</td>\n",
       "      <td>9</td>\n",
       "      <td>660.0</td>\n",
       "      <td>1</td>\n",
       "      <td>173</td>\n",
       "      <td>0.55</td>\n",
       "    </tr>\n",
       "    <tr>\n",
       "      <th>1</th>\n",
       "      <td>1575281904278712</td>\n",
       "      <td>2</td>\n",
       "      <td>3.05</td>\n",
       "      <td>1.525</td>\n",
       "      <td>2017-06-03 10:13:00</td>\n",
       "      <td>2017-06-03 17:39:00</td>\n",
       "      <td>0</td>\n",
       "      <td>0</td>\n",
       "      <td>1.0</td>\n",
       "      <td>3.05</td>\n",
       "      <td>...</td>\n",
       "      <td>1</td>\n",
       "      <td>10</td>\n",
       "      <td>2</td>\n",
       "      <td>0.184264</td>\n",
       "      <td>2017</td>\n",
       "      <td>6</td>\n",
       "      <td>480.0</td>\n",
       "      <td>1</td>\n",
       "      <td>0</td>\n",
       "      <td>3.05</td>\n",
       "    </tr>\n",
       "    <tr>\n",
       "      <th>2</th>\n",
       "      <td>2429014661409475</td>\n",
       "      <td>1</td>\n",
       "      <td>73.33</td>\n",
       "      <td>73.330</td>\n",
       "      <td>2017-10-11 18:33:00</td>\n",
       "      <td>2017-10-11 18:33:00</td>\n",
       "      <td>0</td>\n",
       "      <td>0</td>\n",
       "      <td>1.0</td>\n",
       "      <td>73.33</td>\n",
       "      <td>...</td>\n",
       "      <td>0</td>\n",
       "      <td>3</td>\n",
       "      <td>1</td>\n",
       "      <td>0.571038</td>\n",
       "      <td>2017</td>\n",
       "      <td>10</td>\n",
       "      <td>780.0</td>\n",
       "      <td>1</td>\n",
       "      <td>0</td>\n",
       "      <td>73.33</td>\n",
       "    </tr>\n",
       "    <tr>\n",
       "      <th>3</th>\n",
       "      <td>2464366381792757</td>\n",
       "      <td>1</td>\n",
       "      <td>2.44</td>\n",
       "      <td>2.440</td>\n",
       "      <td>2018-01-28 15:54:00</td>\n",
       "      <td>2018-01-28 15:54:00</td>\n",
       "      <td>0</td>\n",
       "      <td>0</td>\n",
       "      <td>1.0</td>\n",
       "      <td>2.44</td>\n",
       "      <td>...</td>\n",
       "      <td>0</td>\n",
       "      <td>5</td>\n",
       "      <td>2</td>\n",
       "      <td>0.264780</td>\n",
       "      <td>2018</td>\n",
       "      <td>1</td>\n",
       "      <td>450.0</td>\n",
       "      <td>1</td>\n",
       "      <td>0</td>\n",
       "      <td>2.44</td>\n",
       "    </tr>\n",
       "    <tr>\n",
       "      <th>4</th>\n",
       "      <td>2551852515556206</td>\n",
       "      <td>2</td>\n",
       "      <td>10.99</td>\n",
       "      <td>5.495</td>\n",
       "      <td>2017-11-24 10:14:00</td>\n",
       "      <td>2017-11-24 11:24:00</td>\n",
       "      <td>0</td>\n",
       "      <td>0</td>\n",
       "      <td>1.0</td>\n",
       "      <td>10.99</td>\n",
       "      <td>...</td>\n",
       "      <td>0</td>\n",
       "      <td>5</td>\n",
       "      <td>2</td>\n",
       "      <td>0.264780</td>\n",
       "      <td>2017</td>\n",
       "      <td>11</td>\n",
       "      <td>279.5</td>\n",
       "      <td>1</td>\n",
       "      <td>0</td>\n",
       "      <td>10.99</td>\n",
       "    </tr>\n",
       "  </tbody>\n",
       "</table>\n",
       "<p>5 rows × 27 columns</p>\n",
       "</div>"
      ],
      "text/plain": [
       "                uid  n_compras  revenue_total     aov fecha_primera_compra  \\\n",
       "0   313578113262317          1           0.55   0.550  2018-01-03 21:51:00   \n",
       "1  1575281904278712          2           3.05   1.525  2017-06-03 10:13:00   \n",
       "2  2429014661409475          1          73.33  73.330  2017-10-11 18:33:00   \n",
       "3  2464366381792757          1           2.44   2.440  2018-01-28 15:54:00   \n",
       "4  2551852515556206          2          10.99   5.495  2017-11-24 10:14:00   \n",
       "\n",
       "   fecha_ultima_compra  dias_entre_compras  is_retained  meses_activo  \\\n",
       "0  2018-01-03 21:51:00                   0            0           1.0   \n",
       "1  2017-06-03 17:39:00                   0            0           1.0   \n",
       "2  2017-10-11 18:33:00                   0            0           1.0   \n",
       "3  2018-01-28 15:54:00                   0            0           1.0   \n",
       "4  2017-11-24 11:24:00                   0            0           1.0   \n",
       "\n",
       "   gasto_mensual_promedio  ...  primer_dispositivo  primer_source n_sesiones  \\\n",
       "0                    0.55  ...                   0              2          3   \n",
       "1                    3.05  ...                   1             10          2   \n",
       "2                   73.33  ...                   0              3          1   \n",
       "3                    2.44  ...                   0              5          2   \n",
       "4                   10.99  ...                   0              5          2   \n",
       "\n",
       "   CAC_source_30  cohort_year  cohort_month  duracion_promedio_sesion  \\\n",
       "0       0.340746         2017             9                     660.0   \n",
       "1       0.184264         2017             6                     480.0   \n",
       "2       0.571038         2017            10                     780.0   \n",
       "3       0.264780         2018             1                     450.0   \n",
       "4       0.264780         2017            11                     279.5   \n",
       "\n",
       "   n_dispositivos_distintos  dias_activo  LTV_180  \n",
       "0                         1          173     0.55  \n",
       "1                         1            0     3.05  \n",
       "2                         1            0    73.33  \n",
       "3                         1            0     2.44  \n",
       "4                         1            0    10.99  \n",
       "\n",
       "[5 rows x 27 columns]"
      ]
     },
     "execution_count": 12,
     "metadata": {},
     "output_type": "execute_result"
    }
   ],
   "source": [
    "df.head()"
   ]
  },
  {
   "cell_type": "code",
   "execution_count": 10,
   "id": "9b89edee",
   "metadata": {},
   "outputs": [],
   "source": [
    "# Eliminar filas con nulos en la columna target\n",
    "df = df.dropna(subset=['LTV_180'])"
   ]
  },
  {
   "cell_type": "code",
   "execution_count": 13,
   "id": "49f6c901",
   "metadata": {},
   "outputs": [],
   "source": [
    "columnas_excluir = [\n",
    "    'LTV_180',\n",
    "    'fecha_primera_sesion',\n",
    "    'uid',\n",
    "    'fecha_primera_compra',\n",
    "    'fecha_ultima_compra'\n",
    "]"
   ]
  },
  {
   "cell_type": "code",
   "execution_count": 14,
   "id": "e5f38d38",
   "metadata": {},
   "outputs": [],
   "source": [
    "def dividir_dataset(df, fecha_col='fecha_primera_sesion'):\n",
    "    fecha_val_inicio = pd.Timestamp('2018-01-01')\n",
    "    fecha_val_fin = pd.Timestamp('2018-06-30')\n",
    "    fecha_test_inicio = pd.Timestamp('2018-07-01')\n",
    "    fecha_test_fin = pd.Timestamp('2018-12-31')\n",
    "\n",
    "    df_train = df[df[fecha_col] < fecha_val_inicio]\n",
    "    df_val = df[(df[fecha_col] >= fecha_val_inicio) & (df[fecha_col] <= fecha_val_fin)]\n",
    "    df_test = df[(df[fecha_col] >= fecha_test_inicio) & (df[fecha_col] <= fecha_test_fin)]\n",
    "\n",
    "    return df_train, df_val, df_test"
   ]
  },
  {
   "cell_type": "code",
   "execution_count": 15,
   "id": "bf91957a",
   "metadata": {},
   "outputs": [],
   "source": [
    "train, val, test = dividir_dataset(df)\n",
    "\n",
    "X_val = val.drop(columns=columnas_excluir)\n",
    "y_val = val['LTV_180']"
   ]
  },
  {
   "cell_type": "markdown",
   "id": "3ae1161b",
   "metadata": {},
   "source": [
    "## Importancia de variables"
   ]
  },
  {
   "cell_type": "code",
   "execution_count": 19,
   "id": "1430d884",
   "metadata": {},
   "outputs": [
    {
     "name": "stderr",
     "output_type": "stream",
     "text": [
      "/var/folders/1p/fq1m75_x51v5l3dmf0wxswbr0000gn/T/ipykernel_3094/1023626476.py:3: DeprecationWarning: numpy.core.numeric is deprecated and has been renamed to numpy._core.numeric. The numpy._core namespace contains private NumPy internals and its use is discouraged, as NumPy internals can change without warning in any release. In practice, most real-world usage of numpy.core is to access functionality in the public NumPy API. If that is the case, use the public NumPy API. If not, you are using NumPy internals. If you would still like to access an internal attribute, use numpy._core.numeric._frombuffer.\n",
      "  rf_model = pickle.load(f)\n"
     ]
    }
   ],
   "source": [
    "# Mejor modelo entrenado\n",
    "with open('../models/LTV_180/rf.pkl', 'rb') as f:\n",
    "    rf_model = pickle.load(f)"
   ]
  },
  {
   "cell_type": "code",
   "execution_count": 25,
   "id": "2ab34263",
   "metadata": {},
   "outputs": [
    {
     "data": {
      "text/plain": [
       "{'pre': ColumnTransformer(transformers=[('scale', StandardScaler(),\n",
       "                                  Index(['n_compras', 'revenue_total', 'aov', 'dias_entre_compras',\n",
       "        'is_retained', 'meses_activo', 'gasto_mensual_promedio',\n",
       "        'frecuencia_compras', 'dias_primera_sesion_a_primera_compra',\n",
       "        'mes_primera_sesion', 'dia_semana_primera_sesion',\n",
       "        'es_fin_de_semana_primera_sesion', 'estacion_primera_sesion',\n",
       "        'primer_dispositivo', 'n_sesiones', 'CAC_source_30', 'cohort_year',\n",
       "        'cohort_month', 'duracion_promedio_sesion', 'n_dispositivos_distintos',\n",
       "        'dias_activo'],\n",
       "       dtype='object'))]),\n",
       " 'modelo': RandomForestRegressor(max_depth=10, n_estimators=200, random_state=42)}"
      ]
     },
     "execution_count": 25,
     "metadata": {},
     "output_type": "execute_result"
    }
   ],
   "source": [
    "rf_model.named_steps"
   ]
  },
  {
   "cell_type": "code",
   "execution_count": 26,
   "id": "83d62776",
   "metadata": {},
   "outputs": [],
   "source": [
    "# Extraer los pasos del pipeline\n",
    "preprocessor = rf_model.named_steps['pre']\n",
    "rf_regressor = rf_model.named_steps['modelo']"
   ]
  },
  {
   "cell_type": "code",
   "execution_count": 27,
   "id": "9f9b8166",
   "metadata": {},
   "outputs": [],
   "source": [
    "# Obtener nombres de columnas transformadas (en este caso no se transforman los nombres)\n",
    "# pero igual lo formalizamos\n",
    "input_features = preprocessor.transformers_[0][2]  # los usados por el StandardScaler"
   ]
  },
  {
   "cell_type": "code",
   "execution_count": 28,
   "id": "2c2f356e",
   "metadata": {},
   "outputs": [],
   "source": [
    "# Obtener las importancias del modelo\n",
    "importancias = rf_regressor.feature_importances_"
   ]
  },
  {
   "cell_type": "code",
   "execution_count": 30,
   "id": "0e9d52ba",
   "metadata": {},
   "outputs": [
    {
     "data": {
      "text/plain": [
       "array([2.71082838e-03, 9.78956557e-01, 5.48826303e-04, 4.80108580e-04,\n",
       "       4.40805849e-06, 8.09144655e-04, 3.07233233e-03, 1.41592460e-03,\n",
       "       4.12834552e-03, 3.47294672e-04, 7.79556886e-04, 4.05227651e-04,\n",
       "       3.30093821e-04, 8.54455962e-05, 8.61403213e-04, 8.46358073e-04,\n",
       "       9.33195287e-06, 4.31876607e-04, 3.95644506e-04, 4.24705498e-04,\n",
       "       2.95658573e-03])"
      ]
     },
     "execution_count": 30,
     "metadata": {},
     "output_type": "execute_result"
    }
   ],
   "source": [
    "importancias"
   ]
  },
  {
   "cell_type": "code",
   "execution_count": 35,
   "id": "f4a1fa6e",
   "metadata": {},
   "outputs": [
    {
     "data": {
      "image/png": "[encoded data removed]",
      "text/plain": [
       "<Figure size 800x600 with 1 Axes>"
      ]
     },
     "metadata": {},
     "output_type": "display_data"
    }
   ],
   "source": [
    "plt.figure(figsize=(8, 6))\n",
    "plt.barh(input_features, importancias)\n",
    "plt.title('Importancia de Variables - Random Forest (Gini)')\n",
    "plt.xlabel('Importancia')\n",
    "plt.tight_layout()\n",
    "plt.show()"
   ]
  },
  {
   "cell_type": "code",
   "execution_count": null,
   "id": "8661abdc",
   "metadata": {},
   "outputs": [],
   "source": []
  }
 ],
 "metadata": {
  "kernelspec": {
   "display_name": "venv",
   "language": "python",
   "name": "python3"
  },
  "language_info": {
   "codemirror_mode": {
    "name": "ipython",
    "version": 3
   },
   "file_extension": ".py",
   "mimetype": "text/x-python",
   "name": "python",
   "nbconvert_exporter": "python",
   "pygments_lexer": "ipython3",
   "version": "3.12.2"
  }
 },
 "nbformat": 4,
 "nbformat_minor": 5
}
